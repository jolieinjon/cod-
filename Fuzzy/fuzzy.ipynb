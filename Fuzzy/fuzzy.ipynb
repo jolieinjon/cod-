{
 "cells": [
  {
   "cell_type": "code",
   "execution_count": 97,
   "metadata": {},
   "outputs": [],
   "source": [
    "import numpy as np"
   ]
  },
  {
   "cell_type": "code",
   "execution_count": 98,
   "metadata": {},
   "outputs": [],
   "source": [
    "# a = 4,5,6\n",
    "# b = 6,7,8\n",
    "# c = a+ b\n",
    "class FuzzyNumber:\n",
    "    def __init__(self, a,b,c):\n",
    "        self.l = a\n",
    "        self.c = b\n",
    "        self.r = c\n",
    "        pass\n",
    "\n",
    "    def print(self):\n",
    "        print(\"(\"+str(self.l)+\",\"+str(self.c)+\",\"+str(self.r)+\")\")\n",
    "\n",
    "    def __add__(self, n):\n",
    "        return FuzzyNumber(self.l+n.l, self.c+n.c, self.r + n.r)\n",
    "    \n",
    "    def __sub__(self,n):\n",
    "        return FuzzyNumber(self.l-n.l, self.c-n.c, self.r - n.r)\n",
    "\n",
    "    def __mul__(self,n):\n",
    "        return FuzzyNumber(self.l*n.l, self.c*n.c, self.r * n.r)\n",
    "\n",
    "    def __truediv__(self,n):\n",
    "        return FuzzyNumber(self.l/n.l, self.c/n.c, self.r / n.r)\n"
   ]
  },
  {
   "cell_type": "code",
   "execution_count": 99,
   "metadata": {},
   "outputs": [
    {
     "name": "stdout",
     "output_type": "stream",
     "text": [
      "(4,5,6)\n",
      "(3,7,8)\n"
     ]
    }
   ],
   "source": [
    "k = FuzzyNumber(4,5,6)\n",
    "h = FuzzyNumber(3,7,8)\n",
    "k.print()\n",
    "h.print()\n"
   ]
  },
  {
   "cell_type": "code",
   "execution_count": 100,
   "metadata": {},
   "outputs": [
    {
     "name": "stdout",
     "output_type": "stream",
     "text": [
      "(1.3333333333333333,0.7142857142857143,0.75)\n"
     ]
    }
   ],
   "source": [
    "l = k / h\n",
    "l.print()"
   ]
  },
  {
   "cell_type": "code",
   "execution_count": 101,
   "metadata": {},
   "outputs": [],
   "source": [
    "import numpy as np\n",
    "n = 5"
   ]
  },
  {
   "cell_type": "code",
   "execution_count": 102,
   "metadata": {},
   "outputs": [],
   "source": [
    "class DNA: \n",
    "    def __init__(self): \n",
    "        self.dvar = np.random.uniform(0,1,n) #uniform thay vì randint thì sẽ ra được số thập phân "
   ]
  },
  {
   "cell_type": "code",
   "execution_count": 103,
   "metadata": {},
   "outputs": [
    {
     "name": "stdout",
     "output_type": "stream",
     "text": [
      "[0.5536301  0.15830142 0.8636528  0.83615307 0.35208264]\n"
     ]
    }
   ],
   "source": [
    "dna = DNA() \n",
    "print(dna.dvar)"
   ]
  }
 ],
 "metadata": {
  "kernelspec": {
   "display_name": "Python 3.10.5 64-bit (windows store)",
   "language": "python",
   "name": "python3"
  },
  "language_info": {
   "codemirror_mode": {
    "name": "ipython",
    "version": 3
   },
   "file_extension": ".py",
   "mimetype": "text/x-python",
   "name": "python",
   "nbconvert_exporter": "python",
   "pygments_lexer": "ipython3",
   "version": "3.10.10"
  },
  "orig_nbformat": 4,
  "vscode": {
   "interpreter": {
    "hash": "65a440aeac0c89e2af7569e0aa53b64434c4b69eb6285e2b0d174d9bca190d54"
   }
  }
 },
 "nbformat": 4,
 "nbformat_minor": 2
}

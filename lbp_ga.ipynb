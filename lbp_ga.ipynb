{
 "cells": [
  {
   "cell_type": "code",
   "execution_count": null,
   "metadata": {},
   "outputs": [],
   "source": [
    "import numpy as np\n",
    "from math import inf\n",
    "m = 5 #num of machines (different capacity - by manchine)\n",
    "n = 20 #num of jobs\n",
    "pc = np.random.uniform(0.7,0.85) #crossover probability\n",
    "pm = np.random.uniform(0.06,0.1) #mutation probability\n",
    "cap = [5,7,4,2,3] \n",
    "#pre = [(1,2),(1,3),(1,4),(2,5),(2,6),(4,7),(6,8),(7,8),(8,9),(5,11),(9,11),(5,11),(5,10),(10,12),(10,13),(11,14),(13,16),(14,16),(12,15),(15,19),(16,17),(6,18),(17,20),(18,20)(19,20)]"
   ]
  },
  {
   "cell_type": "code",
   "execution_count": null,
   "metadata": {},
   "outputs": [
    {
     "name": "stdout",
     "output_type": "stream",
     "text": [
      "0.8259991504504909\n",
      "0.0773596290627923\n"
     ]
    }
   ],
   "source": [
    "print(pc)\n",
    "print(pm)"
   ]
  },
  {
   "cell_type": "code",
   "execution_count": null,
   "metadata": {},
   "outputs": [],
   "source": [
    "class DNA: \n",
    "    def __init__(self): \n",
    "        self.dvar = [np.random.randint(0,1,m),np.random.randint(0,1,n) ]  \n",
    "        #nửa đầu chromosome là thứ tự machines, nửa sau chromosome là thứ tự jobs\n",
    "        #crossover và mutation riêng biệt cho 2\n",
    "        self.fitness = None\n",
    "    def calc_fitness(self):\n",
    "        #1/c --> link với precedence graph ntn?\n",
    "    def mutate(haha): \n",
    "        for i in range(n):\n",
    "            if np.random.rand()<pm:\n",
    "                #chuyển 2 số bất kì trong 1 chromosome\n"
   ]
  },
  {
   "cell_type": "code",
   "execution_count": null,
   "metadata": {},
   "outputs": [
    {
     "name": "stdout",
     "output_type": "stream",
     "text": [
      "[array([0, 0, 0, 0, 0]), array([0, 0, 0, 0, 0, 0, 0, 0, 0, 0, 0, 0, 0, 0, 0, 0, 0, 0, 0, 0])]\n"
     ]
    }
   ],
   "source": [
    "dna = DNA() \n",
    "print(dna.dvar)"
   ]
  },
  {
   "cell_type": "code",
   "execution_count": null,
   "metadata": {},
   "outputs": [],
   "source": [
    "def crossover(dna1,dna2): #làm sao để crossover riêng biệt\n",
    "    new_dna = DNA()\n",
    "    mid = np.random.randint(0,n)\n",
    "    a1 = dna1.dvar[0:mid]\n",
    "    a2 = dna2.dvar[mid:n]\n",
    "    new_dna.dvar = np.concatenate([a1,a2])\n",
    "    new_dna.calc_fitness()\n",
    "    return new_dna"
   ]
  },
  {
   "cell_type": "code",
   "execution_count": null,
   "metadata": {},
   "outputs": [],
   "source": [
    "pop_size = 5\n",
    "population = [] \n",
    "for i in range(pop_size):\n",
    "    population.append(DNA())\n",
    "    population[i].calc_fitness()\n",
    "    print(population[i].fitness)"
   ]
  },
  {
   "cell_type": "code",
   "execution_count": null,
   "metadata": {},
   "outputs": [],
   "source": [
    "def curve(x):\n",
    "    return int(x*x/8)"
   ]
  },
  {
   "cell_type": "code",
   "execution_count": null,
   "metadata": {},
   "outputs": [],
   "source": [
    "pool = []\n",
    "for i in range(pop_size):\n",
    "    for j in range(curve(population[i].fitness)): \n",
    "        pool.append(i)\n",
    "\n",
    "print(pool)"
   ]
  },
  {
   "cell_type": "code",
   "execution_count": null,
   "metadata": {},
   "outputs": [],
   "source": [
    "id = np.random.choice(pool)\n",
    "print(id)"
   ]
  },
  {
   "cell_type": "code",
   "execution_count": null,
   "metadata": {},
   "outputs": [],
   "source": [
    "id1 = np.random.choice(pool)\n",
    "id2 = np.random.choice(pool)\n",
    "print(population[id1].dvar) #lấy thằng có số thứ tự là id1 trong population\n",
    "print(population[id2].dvar)\n",
    "\n",
    "dna3 = crossover(population[id1], population[id2])\n",
    "print(dna3.dvar)"
   ]
  },
  {
   "cell_type": "code",
   "execution_count": null,
   "metadata": {},
   "outputs": [],
   "source": [
    "best_dna= DNA()\n",
    "best_fitness= - inf\n",
    "num_of_iteration=10\n",
    "for it in range(num_of_iteration):\n",
    "    print(\"iteration: \", it)\n",
    "    print(\"best fitness is\", best_fitness)\n",
    "    pool=[]\n",
    "    for i in range(pop_size): # run from 0-> pop_size -1\n",
    "        for j in range(max(population[i].fitness,0)):\n",
    "            pool.append(i)\n",
    "    new_population=[]\n",
    "    for i in range(pop_size):\n",
    "        id1 = np.random.choice(pool)\n",
    "        id2 = np.random.choice(pool)\n",
    "        new_dna= crossover(population[id1], population[id2]) #không chấm dvar vì ở trên có rùi \n",
    "        new_dna.mutate()\n",
    "        new_dna.calc_fitness()\n",
    "        if new_dna.fitness> best_fitness:\n",
    "            best_fitness = new_dna.fitness\n",
    "            best_dna=new_dna\n",
    "        new_population.append(new_dna)\n",
    "    population = new_population"
   ]
  },
  {
   "cell_type": "code",
   "execution_count": null,
   "metadata": {},
   "outputs": [],
   "source": [
    "print(best_dna.dvar)"
   ]
  }
 ],
 "metadata": {
  "kernelspec": {
   "display_name": "Python 3",
   "language": "python",
   "name": "python3"
  },
  "language_info": {
   "name": "python",
   "version": "3.10.10"
  },
  "orig_nbformat": 4,
  "vscode": {
   "interpreter": {
    "hash": "65a440aeac0c89e2af7569e0aa53b64434c4b69eb6285e2b0d174d9bca190d54"
   }
  }
 },
 "nbformat": 4,
 "nbformat_minor": 2
}

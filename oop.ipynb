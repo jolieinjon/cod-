{
 "cells": [
  {
   "cell_type": "code",
   "execution_count": 2,
   "metadata": {},
   "outputs": [],
   "source": [
    "class sv: #khai báo đối tượng là sinh viên, thay vid sử dụng là integer hay float j đó \n",
    "    def __init__(self): #khai báo các thuộc tính ở chỗ self lun, này là hàm khởi tạo\n",
    "        self.name = None\n",
    "        self.age = None\n",
    "        self.gender = None  #3 đặc điểm của đối tượng sv \n",
    "        #chỗ này khai báo gì thì ở dưới mới được xài kiểu .đặc điểm đó vô \n",
    "        #1 đối tượng sẽ có các đặc điểm mình khai báo, khi mình chấm cái gì thì sẽ lôi đặc điểm đó ra \n",
    "    def tangtuoi(self): \n",
    "        self.name = \"Hoai\"\n",
    "        self.age = \"22\"\n",
    "        self.gender = \"Nu\"\n",
    "    def tangtuoi_n(self,n):\n",
    "        self.age = self.age +n #muốn tăng n tuổi thì xài hàm này "
   ]
  },
  {
   "cell_type": "code",
   "execution_count": 8,
   "metadata": {},
   "outputs": [],
   "source": [
    "a = sv() #khi mà mình gọi a như v thì nó chỉ chạy hàm khởi tạo thui, ở trên chỉ là khai báo, xuống dưới này gọi ra thi mới print được "
   ]
  },
  {
   "cell_type": "code",
   "execution_count": 10,
   "metadata": {},
   "outputs": [
    {
     "name": "stdout",
     "output_type": "stream",
     "text": [
      "Hoai\n",
      "22\n"
     ]
    }
   ],
   "source": [
    "print(a.name) \n",
    "#B0: khai báo a và các hàm \n",
    "#B1: gán a = sv\n",
    "#B2: chạy hàm ghi a. gì gì đó \n",
    "#B3: print là ra cái đặc điểm của đối tượng đó mà mình muốn lôi ra \n",
    "print(a.age)"
   ]
  },
  {
   "cell_type": "code",
   "execution_count": 9,
   "metadata": {},
   "outputs": [],
   "source": [
    "a.tangtuoi() #a bây giờ là seft nên xài a. lun, phải chạy hàm này thì mới print ra giá trị được, nếu không sẽ là None"
   ]
  },
  {
   "cell_type": "code",
   "execution_count": 37,
   "metadata": {},
   "outputs": [],
   "source": [
    "ngochoai = sv(\"Hoai\",21,\"Nu\")"
   ]
  },
  {
   "cell_type": "code",
   "execution_count": 38,
   "metadata": {},
   "outputs": [
    {
     "name": "stdout",
     "output_type": "stream",
     "text": [
      "Hoai\n",
      "21\n"
     ]
    }
   ],
   "source": [
    "print(ngochoai.name)\n",
    "print(ngochoai.age)"
   ]
  },
  {
   "cell_type": "code",
   "execution_count": 23,
   "metadata": {},
   "outputs": [
    {
     "name": "stdout",
     "output_type": "stream",
     "text": [
      "None\n"
     ]
    }
   ],
   "source": [
    "h = []\n",
    "h.append(sv()) #này là không phải append 1 số vào chuỗi mà append 1 cái đối tượng vô\n",
    "print(h[0].name) #lôi cái ở vị trí số 0 trogn chuỗi đó ra, của đặc điểm là name "
   ]
  },
  {
   "cell_type": "code",
   "execution_count": 24,
   "metadata": {},
   "outputs": [
    {
     "name": "stdout",
     "output_type": "stream",
     "text": [
      "[<__main__.sv object at 0x000001B87CA6A230>]\n"
     ]
    }
   ],
   "source": [
    "print(h)"
   ]
  },
  {
   "cell_type": "code",
   "execution_count": 39,
   "metadata": {},
   "outputs": [
    {
     "name": "stdout",
     "output_type": "stream",
     "text": [
      "22\n"
     ]
    }
   ],
   "source": [
    "ngochoai.tangtuoi()\n",
    "print(ngochoai.age)"
   ]
  },
  {
   "cell_type": "code",
   "execution_count": 40,
   "metadata": {},
   "outputs": [
    {
     "name": "stdout",
     "output_type": "stream",
     "text": [
      "31\n"
     ]
    }
   ],
   "source": [
    "ngochoai.tangtuoi_n(9)\n",
    "print(ngochoai.age)"
   ]
  }
 ],
 "metadata": {
  "kernelspec": {
   "display_name": "Python 3.10.5 64-bit (windows store)",
   "language": "python",
   "name": "python3"
  },
  "language_info": {
   "codemirror_mode": {
    "name": "ipython",
    "version": 3
   },
   "file_extension": ".py",
   "mimetype": "text/x-python",
   "name": "python",
   "nbconvert_exporter": "python",
   "pygments_lexer": "ipython3",
   "version": "3.10.10"
  },
  "orig_nbformat": 4,
  "vscode": {
   "interpreter": {
    "hash": "65a440aeac0c89e2af7569e0aa53b64434c4b69eb6285e2b0d174d9bca190d54"
   }
  }
 },
 "nbformat": 4,
 "nbformat_minor": 2
}

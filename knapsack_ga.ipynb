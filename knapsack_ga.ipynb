{
 "cells": [
  {
   "cell_type": "code",
   "execution_count": 1,
   "metadata": {},
   "outputs": [],
   "source": [
    "import numpy as np\n",
    "from math import inf  \n",
    "n = 5\n",
    "m = 15\n",
    "w = [12, 2, 1 , 1, 4]\n",
    "v = [10, 2, 1, 2, 5]"
   ]
  },
  {
   "cell_type": "code",
   "execution_count": 2,
   "metadata": {},
   "outputs": [],
   "source": [
    "# class DNA:\n",
    "    # def __init__(self): #không điền gì vô, muốn nó random thì khỏi khai vô đây \n",
    "        # self.dvar = np.random.randint(0,2,n) #tạo array 0,1 có độ dài n \n",
    "        # self.fitness = np.sum(self.dvar*v) #fitness là khả năng sinh sôi ở thế hệ kế tiếp, bài max thì fitness càng cao càng tốt, min ngược lại \n",
    "        # total_weight = np.sum(self.dvar*w)\n",
    "        # err = total_weight - m\n",
    "        # self.fitness = self.fitness - max(2*err,0) #chỉ trừ khi err lớn hơn 0, số 2 mình tự điều chỉnh "
   ]
  },
  {
   "cell_type": "code",
   "execution_count": 3,
   "metadata": {},
   "outputs": [],
   "source": [
    "class DNA: #khúc này là khai báo thui chứ chưa chạy, chừng nào mình gọi mới chạy, DNA chứa decision var \n",
    "    def __init__(self): #bắt buộc phải có cái initial \"init\" này, các hàm dưới tự đặt tên \n",
    "        self.dvar = np.random.randint(0,2,n)  \n",
    "        self.fitness = None #kiểu dữ liệu non là không có gì ở trỏng hết  \n",
    "        #không muốn cái hàm initial chạy nhiều lần nên sẽ tách ra như vậy chứ không viết như ở trên \n",
    "    def calc_fitness(self):\n",
    "        self.fitness = np.sum(self.dvar*v)\n",
    "        total_weight = np.sum(self.dvar*w)\n",
    "        err = total_weight - m\n",
    "        if total_weight > m: #lố constrain\n",
    "            self.fitness = self.fitness - 2*err #số 2 tâm linh của anh Lộc (bài khác tự tâm linh)\n",
    "            #cho bằng 0 thì nó cũng chạy được nma nếu bỏ thì uổng nên chỉ phạt thui \n",
    "    def mutate(haha): #mutate là thêm gen lạ vào quần thể #haha hay tên gì cũng được, quan trọng là đồng nhất với hàm ở dưới\n",
    "        for i in range(n):\n",
    "            if np.random.rand()<0.25: #0.25 là mutation rate, lại là 1 con số tâm linh \n",
    "                haha.dvar[i] = 1 - haha.dvar[i] #randome đổi kh thành 1, decision var là binary"
   ]
  },
  {
   "cell_type": "code",
   "execution_count": 4,
   "metadata": {},
   "outputs": [
    {
     "name": "stdout",
     "output_type": "stream",
     "text": [
      "[1 1 0 1 1]\n",
      "None\n"
     ]
    }
   ],
   "source": [
    "dna = DNA() #khúc này là gọi nó ra nó mới chạy nè \n",
    "print(dna.dvar)\n",
    "print(dna.fitness) #fitness là tổng var, sẽ trừ fitness dựa vào mức độ sai chứ kh trừ số cố định "
   ]
  },
  {
   "cell_type": "code",
   "execution_count": 5,
   "metadata": {},
   "outputs": [
    {
     "name": "stdout",
     "output_type": "stream",
     "text": [
      "11\n"
     ]
    }
   ],
   "source": [
    "dna.calc_fitness() #phải calc thì print mới ra\n",
    "print(dna.fitness) "
   ]
  },
  {
   "cell_type": "code",
   "execution_count": 6,
   "metadata": {},
   "outputs": [],
   "source": [
    "def crossover(dna1,dna2): #khúc này cũng là khai báo, khai báo trước để lát hồi đưa vô vòng lặp chính \n",
    "    new_dna = DNA()\n",
    "    mid = np.random.randint(0,n)\n",
    "    a1 = dna1.dvar[0:mid]\n",
    "    a2 = dna2.dvar[mid:n]\n",
    "    new_dna.dvar = np.concatenate([a1,a2])\n",
    "    new_dna.calc_fitness()\n",
    "    return new_dna #trao đổi chéo để tạo ra được 1 array tốt hơn \n",
    "#cần có return vì hàm hày cần trả về 1 giá trị mới, còn những hàm và tự thay đổi ở trong chuỗi thôi thì kh cần"
   ]
  },
  {
   "cell_type": "code",
   "execution_count": 7,
   "metadata": {},
   "outputs": [
    {
     "name": "stdout",
     "output_type": "stream",
     "text": [
      "[0 0 1 1 1]\n"
     ]
    }
   ],
   "source": [
    "d4 = DNA()\n",
    "print(d4.dvar)"
   ]
  },
  {
   "cell_type": "code",
   "execution_count": 8,
   "metadata": {},
   "outputs": [
    {
     "name": "stdout",
     "output_type": "stream",
     "text": [
      "[0 0 1 0 1]\n"
     ]
    }
   ],
   "source": [
    "d4.mutate()\n",
    "print(d4.dvar)"
   ]
  },
  {
   "cell_type": "code",
   "execution_count": 9,
   "metadata": {},
   "outputs": [
    {
     "name": "stdout",
     "output_type": "stream",
     "text": [
      "[0 0 0 1 0]\n",
      "[0 1 1 0 0]\n"
     ]
    }
   ],
   "source": [
    "d1 = DNA()\n",
    "print(d1.dvar)\n",
    "d2 = DNA()\n",
    "print(d2.dvar)"
   ]
  },
  {
   "cell_type": "code",
   "execution_count": 10,
   "metadata": {},
   "outputs": [
    {
     "name": "stdout",
     "output_type": "stream",
     "text": [
      "[0 1 1 0 0]\n",
      "3\n"
     ]
    }
   ],
   "source": [
    "d3 = crossover(d1, d2)\n",
    "print(d3.dvar)\n",
    "print(d3.fitness)"
   ]
  },
  {
   "cell_type": "code",
   "execution_count": 11,
   "metadata": {},
   "outputs": [
    {
     "name": "stdout",
     "output_type": "stream",
     "text": [
      "7\n",
      "13\n",
      "10\n",
      "11\n",
      "0\n"
     ]
    }
   ],
   "source": [
    "# initialize first population\n",
    "#khúc này mới bắt đầu vòng lặp chính, ở trên là khai báo \n",
    "#câu lệnh dưới đây là để append cái quần thể ban đầu vô population, là chuỗi gồm nhiều DNA random  \n",
    "pop_size = 5\n",
    "population = [] #trong population chứa nhiều cái dna, số dna pop_size, trong dna chứa dvar và fitness\n",
    "for i in range(pop_size):\n",
    "    population.append(DNA()) #dna ban đầu mình khai 2 cái dna và fitness\n",
    "    population[i].calc_fitness()\n",
    "    print(population[i].fitness)"
   ]
  },
  {
   "cell_type": "code",
   "execution_count": 12,
   "metadata": {},
   "outputs": [],
   "source": [
    "#hàm linear không tốt bằng hàm curve vì mình muốn là càng tốt càng nhiều \n",
    "def curve(x):\n",
    "    return int(x*x/8)"
   ]
  },
  {
   "cell_type": "code",
   "execution_count": 13,
   "metadata": {},
   "outputs": [
    {
     "name": "stdout",
     "output_type": "stream",
     "text": [
      "[0, 0, 0, 0, 0, 0, 1, 1, 1, 1, 1, 1, 1, 1, 1, 1, 1, 1, 1, 1, 1, 1, 1, 1, 1, 1, 1, 2, 2, 2, 2, 2, 2, 2, 2, 2, 2, 2, 2, 3, 3, 3, 3, 3, 3, 3, 3, 3, 3, 3, 3, 3, 3, 3]\n"
     ]
    }
   ],
   "source": [
    "#bước natural selection --> linh hồn của GA \n",
    "#pool mating là chứa các DNA, nếu thằng nào tốt thì bỏ vô pool nhiều\n",
    "#idea là mình sẽ là: \n",
    "#1 có 3 số, 2 có 5 số, 3 có 1 số, 4 có 0 số \n",
    "#khi bỏ vô sẽ bỏ kiểu 3 số 1, 5 số 2 and so on --> thằng nào tốt bỏ vô nhiều thì xác suất lần sau bốc dc tốt nhiều hơn \n",
    "pool = []\n",
    "for i in range(pop_size):\n",
    "    for j in range(curve(population[i].fitness)): #nó sẽ chạy từ 0 tới số lượng của fitness --> mỗi lần chạy bỏ 1 số vô --> fit = bnhiu thì bỏ bnhiu số \n",
    "        pool.append(i)\n",
    "\n",
    "print(pool) #những thằng tốt thì id nó sẽ xuất hiện nhiều trong pool\n",
    "#pool là tập các số thứ tự của các chuỗi mình đã tạo ra ở cái population ban đầu, thằng nào tốt xuất hiện nhiều để xác suất bốc trúng cao hơn "
   ]
  },
  {
   "cell_type": "code",
   "execution_count": 14,
   "metadata": {},
   "outputs": [
    {
     "name": "stdout",
     "output_type": "stream",
     "text": [
      "1\n"
     ]
    }
   ],
   "source": [
    "id = np.random.choice(pool)\n",
    "print(id) #bốc 1 thằng trong cái pool ra "
   ]
  },
  {
   "cell_type": "code",
   "execution_count": 15,
   "metadata": {},
   "outputs": [
    {
     "name": "stdout",
     "output_type": "stream",
     "text": [
      "[1 1 1 0 0]\n",
      "[1 1 1 0 0]\n",
      "[1 1 1 0 0]\n"
     ]
    }
   ],
   "source": [
    "id1 = np.random.choice(pool)\n",
    "id2 = np.random.choice(pool)\n",
    "print(population[id1].dvar) #lấy thằng có số thứ tự là id1 trong population\n",
    "print(population[id2].dvar)\n",
    "\n",
    "dna3 = crossover(population[id1], population[id2])\n",
    "print(dna3.dvar)\n"
   ]
  },
  {
   "cell_type": "code",
   "execution_count": 16,
   "metadata": {},
   "outputs": [
    {
     "name": "stdout",
     "output_type": "stream",
     "text": [
      "iteration:  0\n",
      "best fitness is -inf\n",
      "iteration:  1\n",
      "best fitness is 13\n",
      "iteration:  2\n",
      "best fitness is 13\n",
      "iteration:  3\n",
      "best fitness is 13\n",
      "iteration:  4\n",
      "best fitness is 13\n",
      "iteration:  5\n",
      "best fitness is 13\n",
      "iteration:  6\n",
      "best fitness is 13\n",
      "iteration:  7\n",
      "best fitness is 13\n",
      "iteration:  8\n",
      "best fitness is 13\n",
      "iteration:  9\n",
      "best fitness is 13\n"
     ]
    }
   ],
   "source": [
    "#vòng lặp chíng của GA\n",
    "best_dna= DNA()\n",
    "best_fitness= - inf\n",
    "num_of_iteration=10\n",
    "for it in range(num_of_iteration):\n",
    "    print(\"iteration: \", it)\n",
    "    print(\"best fitness is\", best_fitness)\n",
    "    #selection\n",
    "    pool=[]\n",
    "    for i in range(pop_size): # run from 0-> pop_size -1\n",
    "        for j in range(max(population[i].fitness,0)):\n",
    "            pool.append(i)\n",
    "    #crossover\n",
    "    new_population=[]\n",
    "    for i in range(pop_size):\n",
    "        id1 = np.random.choice(pool)\n",
    "        id2 = np.random.choice(pool)\n",
    "        new_dna= crossover(population[id1], population[id2]) #không chấm dvar vì ở trên có rùi \n",
    "        #mutation\n",
    "        new_dna.mutate()\n",
    "    #calculate population fitness\n",
    "        new_dna.calc_fitness()\n",
    "    #update \n",
    "        if new_dna.fitness> best_fitness:\n",
    "            best_fitness = new_dna.fitness\n",
    "            best_dna=new_dna\n",
    "        new_population.append(new_dna)\n",
    "    population = new_population"
   ]
  },
  {
   "cell_type": "code",
   "execution_count": 17,
   "metadata": {},
   "outputs": [
    {
     "name": "stdout",
     "output_type": "stream",
     "text": [
      "[1 1 1 0 0]\n"
     ]
    }
   ],
   "source": [
    "print(best_dna.dvar)"
   ]
  }
 ],
 "metadata": {
  "kernelspec": {
   "display_name": "Python 3.10.5 64-bit (windows store)",
   "language": "python",
   "name": "python3"
  },
  "language_info": {
   "codemirror_mode": {
    "name": "ipython",
    "version": 3
   },
   "file_extension": ".py",
   "mimetype": "text/x-python",
   "name": "python",
   "nbconvert_exporter": "python",
   "pygments_lexer": "ipython3",
   "version": "3.10.10"
  },
  "orig_nbformat": 4,
  "vscode": {
   "interpreter": {
    "hash": "65a440aeac0c89e2af7569e0aa53b64434c4b69eb6285e2b0d174d9bca190d54"
   }
  }
 },
 "nbformat": 4,
 "nbformat_minor": 2
}
